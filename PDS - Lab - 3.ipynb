{
 "cells": [
  {
   "cell_type": "markdown",
   "metadata": {
    "id": "mzUfu_4vSCd9"
   },
   "source": [
    "\n",
    "___\n",
    "\n",
    "<a href='https://www.darshan.ac.in/'> <img src='https://gtu.darshan.ac.in/Upload/Logo/DIET_Logo.svg' /></a>\n",
    "___\n",
    "<pre>\n",
    "<center><b>Python for Data Science - 3150713</b></center>\n",
    "<center><b>Lab - 3</b></center>    \n",
    "<pre>"
   ]
  },
  {
   "cell_type": "markdown",
   "metadata": {
    "id": "MD_xAArnSCeA"
   },
   "source": [
    "# 01) WAP to check given string is palindrome or not."
   ]
  },
  {
   "cell_type": "code",
   "execution_count": 2,
   "metadata": {
    "colab": {
     "base_uri": "https://localhost:8080/",
     "height": 51
    },
    "id": "Yt6w1k8tSCeC",
    "outputId": "fccefea5-25e2-46e8-a991-78817b610614"
   },
   "outputs": [
    {
     "name": "stdout",
     "output_type": "stream",
     "text": [
      "given string is not palindrome\n"
     ]
    }
   ],
   "source": [
    "import string\n",
    "\n",
    "str=input(\"Enter String:\")\n",
    "\n",
    "\n",
    "if str==str[::-1]:\n",
    "    print(\"given string is palindrome\")\n",
    "    \n",
    "else:\n",
    "    print(\"given string is not palindrome\")"
   ]
  },
  {
   "cell_type": "markdown",
   "metadata": {
    "id": "vrUVzoePSCeM"
   },
   "source": [
    "# 02) WAP to reverse the word in given string."
   ]
  },
  {
   "cell_type": "code",
   "execution_count": 1,
   "metadata": {
    "colab": {
     "base_uri": "https://localhost:8080/",
     "height": 51
    },
    "id": "slaAj57ZSCeO",
    "outputId": "7ab7a8a6-bdee-4b4d-e87d-19c765316c74"
   },
   "outputs": [
    {
     "name": "stdout",
     "output_type": "stream",
     "text": [
      "['Aditya', 'Joshi']\n",
      "Joshi Aditya\n"
     ]
    }
   ],
   "source": [
    "str=input(\"Enter String:\")\n",
    "\n",
    "newstr=str.split()\n",
    "\n",
    "newstr=list(reversed(newstr))\n",
    "\n",
    "print(\" \".join(newstr))"
   ]
  },
  {
   "cell_type": "markdown",
   "metadata": {
    "id": "Z9HfDENfSCeW"
   },
   "source": [
    "# 03) WAP to remove ith character from given string."
   ]
  },
  {
   "cell_type": "code",
   "execution_count": 7,
   "metadata": {
    "colab": {
     "base_uri": "https://localhost:8080/",
     "height": 68
    },
    "id": "r0eLDMfPSCeY",
    "outputId": "e94c3a55-c9f2-4a8b-f02d-0244113d3f7d"
   },
   "outputs": [
    {
     "name": "stdout",
     "output_type": "stream",
     "text": [
      "aitya\n"
     ]
    }
   ],
   "source": [
    "str=input(\"Enter String:\")\n",
    "\n",
    "ichar=int(input(\"Enter Character Index To Remove:\"))\n",
    "newStr=\"\"\n",
    "\n",
    "for i in range(len(str)):\n",
    "    if i!=ichar:\n",
    "        newStr=newStr+str[i]\n",
    "        \n",
    "print(newStr)  \n",
    "\n",
    "#str[:ichar]+str[ichar+1:]      "
   ]
  },
  {
   "cell_type": "markdown",
   "metadata": {
    "id": "-2b6ZObZSCeg"
   },
   "source": [
    "# 04) WAP to find length of String without using len function."
   ]
  },
  {
   "cell_type": "code",
   "execution_count": 39,
   "metadata": {
    "colab": {
     "base_uri": "https://localhost:8080/",
     "height": 68
    },
    "id": "VrDwVQCSSCeh",
    "outputId": "0de7579e-c89b-4602-af28-e202391f7411"
   },
   "outputs": [
    {
     "name": "stdout",
     "output_type": "stream",
     "text": [
      "Enter String:Aditya\n",
      "6\n"
     ]
    }
   ],
   "source": [
    "str=input(\"Enter String:\")\n",
    "count=0\n",
    "\n",
    "for i in str:\n",
    "    count=count+1\n",
    "print(count)  "
   ]
  },
  {
   "cell_type": "markdown",
   "metadata": {
    "id": "NTlJQIiXSCep"
   },
   "source": [
    "# 05) WAP to print even length word in string"
   ]
  },
  {
   "cell_type": "code",
   "execution_count": 3,
   "metadata": {
    "colab": {
     "base_uri": "https://localhost:8080/",
     "height": 68
    },
    "id": "R9jyfF_xSCer",
    "outputId": "b28c6203-d29b-452a-c25a-1afce5924381"
   },
   "outputs": [
    {
     "name": "stdout",
     "output_type": "stream",
     "text": [
      "Aditya\n"
     ]
    }
   ],
   "source": [
    "a=input(\"Enter String:\")\n",
    "strlist=a.split()\n",
    "\n",
    "for i in strlist:\n",
    "    if len(i)%2==0:\n",
    "        print(i)"
   ]
  },
  {
   "cell_type": "markdown",
   "metadata": {
    "id": "Z27bj9VNSCe3"
   },
   "source": [
    "# 06) WAP to count numbers of vowels in given string."
   ]
  },
  {
   "cell_type": "code",
   "execution_count": 34,
   "metadata": {
    "colab": {
     "base_uri": "https://localhost:8080/",
     "height": 51
    },
    "id": "C7vvIPR0SCe5",
    "outputId": "01a3a596-0167-47f7-a8d3-36a65a26bf1c"
   },
   "outputs": [
    {
     "name": "stdout",
     "output_type": "stream",
     "text": [
      "Enter String:aditya\n",
      "3\n"
     ]
    }
   ],
   "source": [
    "str1=input(\"Enter String:\")\n",
    "count=0\n",
    "str=str1.lower()\n",
    "\n",
    "for i in str:\n",
    "    if i=='a' or i=='e' or i=='i' or i=='o' or i=='u':\n",
    "        count=count+1\n",
    "        \n",
    "print(count)        "
   ]
  },
  {
   "cell_type": "markdown",
   "metadata": {
    "id": "F17WR4tOSCfE"
   },
   "source": [
    "# 07) WAP which accepts a string as input to print \"Yes\" if the string is \"yes\" or \"YES\" or \"Yes\", otherwise print \"No\"."
   ]
  },
  {
   "cell_type": "code",
   "execution_count": 35,
   "metadata": {
    "colab": {
     "base_uri": "https://localhost:8080/",
     "height": 51
    },
    "id": "9t4piyJUSCfF",
    "outputId": "0d8da18e-29a3-457a-c29c-b8e03fc3586f"
   },
   "outputs": [
    {
     "name": "stdout",
     "output_type": "stream",
     "text": [
      "Enter String:Yes\n",
      "Yes\n"
     ]
    }
   ],
   "source": [
    "str=input(\"Enter String:\")\n",
    "\n",
    "if str==\"yes\" or \"YES\" or \"Yes\":\n",
    "    print(\"Yes\")\n",
    "\n",
    "else:\n",
    "    print(\"No\")"
   ]
  },
  {
   "cell_type": "markdown",
   "metadata": {
    "id": "4Mep9CIaSCfN"
   },
   "source": [
    "# 08) WAP to check whether string contains any special character or not."
   ]
  },
  {
   "cell_type": "code",
   "execution_count": 9,
   "metadata": {
    "colab": {
     "base_uri": "https://localhost:8080/",
     "height": 51
    },
    "id": "zdXPIZbVSCfO",
    "outputId": "072da85e-5b94-4622-9292-ff398fd6ab08"
   },
   "outputs": [
    {
     "name": "stdout",
     "output_type": "stream",
     "text": [
      "True\n",
      "It not Conatins any special character\n"
     ]
    }
   ],
   "source": [
    "str=input(\"Enter String\")\n",
    "\n",
    "if str.isalnum()==False:\n",
    "    print(\"It Conatins any special character\")\n",
    "    \n",
    "else:\n",
    "    print(\"It not Conatins any special character\")   \n",
    "# print(str.isalpha())\n",
    "\n",
    "# if str.isalpha or str.isalnum:\n",
    "  \n",
    "#     count+=1\n",
    "    \n",
    "# else:\n",
    "#     count=0\n",
    "        \n",
    "# if count>0:\n",
    "#     print(\"It Conatins any special character\")\n",
    "        \n",
    "# else:\n",
    "#     print(\"It not Conatins any special character\")  "
   ]
  },
  {
   "cell_type": "markdown",
   "metadata": {
    "id": "guqow8TPSCfV"
   },
   "source": [
    "\n",
    "\n",
    "```\n",
    "# This is formatted as code\n",
    "```\n",
    "\n",
    "# 09) WAP to generate random strings until a given string is generated."
   ]
  },
  {
   "cell_type": "code",
   "execution_count": 10,
   "metadata": {
    "colab": {
     "base_uri": "https://localhost:8080/",
     "height": 1000
    },
    "id": "_Yrsl4DLSCfX",
    "outputId": "3f09060d-1edb-48b4-a8f9-de79c96c500d"
   },
   "outputs": [
    {
     "ename": "KeyboardInterrupt",
     "evalue": "",
     "output_type": "error",
     "traceback": [
      "\u001b[1;31m---------------------------------------------------------------------------\u001b[0m",
      "\u001b[1;31mKeyboardInterrupt\u001b[0m                         Traceback (most recent call last)",
      "\u001b[1;32md:\\Sem 5\\PDS\\Assignment\\Completed\\PDS - Lab - 3.ipynb Cell 19\u001b[0m in \u001b[0;36m<cell line: 10>\u001b[1;34m()\u001b[0m\n\u001b[0;32m     <a href='vscode-notebook-cell:/d%3A/Sem%205/PDS/Assignment/Completed/PDS%20-%20Lab%20-%203.ipynb#X25sZmlsZQ%3D%3D?line=11'>12</a>\u001b[0m \u001b[39mlist\u001b[39m\u001b[39m.\u001b[39mappend(newString)\n\u001b[0;32m     <a href='vscode-notebook-cell:/d%3A/Sem%205/PDS/Assignment/Completed/PDS%20-%20Lab%20-%203.ipynb#X25sZmlsZQ%3D%3D?line=12'>13</a>\u001b[0m \u001b[39mfor\u001b[39;00m i \u001b[39min\u001b[39;00m \u001b[39mrange\u001b[39m(\u001b[39m0\u001b[39m,\u001b[39mlen\u001b[39m(\u001b[39mlist\u001b[39m)):\n\u001b[1;32m---> <a href='vscode-notebook-cell:/d%3A/Sem%205/PDS/Assignment/Completed/PDS%20-%20Lab%20-%203.ipynb#X25sZmlsZQ%3D%3D?line=13'>14</a>\u001b[0m     \u001b[39mif\u001b[39;00m \u001b[39mlist\u001b[39;49m[i]\u001b[39m==\u001b[39m\u001b[39mstr\u001b[39m:\n\u001b[0;32m     <a href='vscode-notebook-cell:/d%3A/Sem%205/PDS/Assignment/Completed/PDS%20-%20Lab%20-%203.ipynb#X25sZmlsZQ%3D%3D?line=14'>15</a>\u001b[0m         flag\u001b[39m=\u001b[39m\u001b[39mTrue\u001b[39;00m\n\u001b[0;32m     <a href='vscode-notebook-cell:/d%3A/Sem%205/PDS/Assignment/Completed/PDS%20-%20Lab%20-%203.ipynb#X25sZmlsZQ%3D%3D?line=15'>16</a>\u001b[0m         \u001b[39mprint\u001b[39m(i)\n",
      "\u001b[1;31mKeyboardInterrupt\u001b[0m: "
     ]
    }
   ],
   "source": [
    "#check\n",
    "import random\n",
    "import string\n",
    "\n",
    "str=input(\"Enter String:\")\n",
    "list=[]\n",
    "count=2\n",
    "flag=False\n",
    "\n",
    "while(flag!=True):\n",
    "    newString=\"\".join(random.choices(string.ascii_lowercase,k=count))\n",
    "    list.append(newString)\n",
    "    for i in range(0,len(list)):\n",
    "        if list[i]==str:\n",
    "            flag=True\n",
    "            print(i)\n",
    "            \n",
    "print(newString)"
   ]
  },
  {
   "cell_type": "markdown",
   "metadata": {
    "id": "qefYXvY4SCfe"
   },
   "source": [
    "# 10) WAP to check given string data in binary formats or not. "
   ]
  },
  {
   "cell_type": "code",
   "execution_count": 59,
   "metadata": {
    "colab": {
     "base_uri": "https://localhost:8080/",
     "height": 51
    },
    "id": "aDicrOWBSCff",
    "outputId": "cb1e58a7-ac7b-4d30-b4a0-7b548736e79b"
   },
   "outputs": [
    {
     "name": "stdout",
     "output_type": "stream",
     "text": [
      "Enter String:0101010\n",
      "true\n"
     ]
    }
   ],
   "source": [
    "str=input(\"Enter String:\")\n",
    "count=0\n",
    "\n",
    "for i in str:\n",
    "    if i =='0' or i=='1':\n",
    "        count+=1       \n",
    "    \n",
    "if count==len(str):\n",
    "    print(\"true\")\n",
    "    \n",
    "else:\n",
    "    print(\"false\")"
   ]
  },
  {
   "cell_type": "markdown",
   "metadata": {
    "id": "Xna_bMSUSCfn"
   },
   "source": [
    "# 11) WAP to find all duplicate characters in string."
   ]
  },
  {
   "cell_type": "code",
   "execution_count": 12,
   "metadata": {
    "colab": {
     "base_uri": "https://localhost:8080/",
     "height": 85
    },
    "id": "JtiOqKTGSCfo",
    "outputId": "8ffc10d2-f9f5-4fb3-a28e-ee39397c5ee4"
   },
   "outputs": [
    {
     "name": "stdout",
     "output_type": "stream",
     "text": [
      "['a', 'i']\n"
     ]
    }
   ],
   "source": [
    "str=input(\"Enter String:\")\n",
    "duplicates=[]\n",
    "\n",
    "for char in str:\n",
    "    if str.count(char)>1:\n",
    "        if char not in duplicates:\n",
    "            duplicates.append(char)\n",
    "        \n",
    "print(duplicates)        "
   ]
  },
  {
   "cell_type": "markdown",
   "metadata": {
    "id": "-LHMKDd1SCfw"
   },
   "source": [
    "# 12) WAP to read an ASCII string and to convert it to a Unicode string encoded by utf-8."
   ]
  },
  {
   "cell_type": "code",
   "execution_count": 15,
   "metadata": {
    "id": "aXvJsiOsSCfy"
   },
   "outputs": [
    {
     "name": "stdout",
     "output_type": "stream",
     "text": [
      "b'adaitya'\n"
     ]
    }
   ],
   "source": [
    "str=input(\"Enter String:\")\n",
    "\n",
    "newstr=str.encode('utf-8')\n",
    "\n",
    "print(newstr)"
   ]
  },
  {
   "cell_type": "markdown",
   "metadata": {
    "id": "_Zg5TbMPSCf5"
   },
   "source": [
    "# 13) WAP to do String slicing\n",
    "                 a)\tLeft (Or anticlockwise) rotate the given string by d elements (where d <= n).\n",
    "                 b)\tRight (Or clockwise) rotate the given string by d elements (where d <= n).\n"
   ]
  },
  {
   "cell_type": "code",
   "execution_count": 35,
   "metadata": {
    "id": "pxYGUQrsSCf7"
   },
   "outputs": [
    {
     "name": "stdout",
     "output_type": "stream",
     "text": [
      "Left Rotation: ityaAd\n",
      "Right Rotation: yaAdit\n"
     ]
    }
   ],
   "source": [
    "str=input(\"Enter String:\")\n",
    "\n",
    "d=int(input(\"Enter d:\"))\n",
    "#aditya\n",
    "#left:ityaad\n",
    "#right:yaadit\n",
    "print(\"Left Rotation:\",(str[d:]+str[0:d]))\n",
    "print(\"Right Rotation:\",(str[len(str)-d:]+str[0:len(str)-d]))"
   ]
  },
  {
   "cell_type": "code",
   "execution_count": 34,
   "metadata": {},
   "outputs": [
    {
     "name": "stdout",
     "output_type": "stream",
     "text": [
      "aytidA\n"
     ]
    }
   ],
   "source": [
    "str=\"Aditya\"\n",
    "\n",
    "print(str[-1:-len(str)-1:-1])"
   ]
  }
 ],
 "metadata": {
  "colab": {
   "collapsed_sections": [],
   "name": "180540107027_(String) - Jayraj Chavada.ipynb",
   "provenance": []
  },
  "kernelspec": {
   "display_name": "Python 3.9.12 ('base')",
   "language": "python",
   "name": "python3"
  },
  "language_info": {
   "codemirror_mode": {
    "name": "ipython",
    "version": 3
   },
   "file_extension": ".py",
   "mimetype": "text/x-python",
   "name": "python",
   "nbconvert_exporter": "python",
   "pygments_lexer": "ipython3",
   "version": "3.9.12"
  },
  "vscode": {
   "interpreter": {
    "hash": "b9bf5399a3dda56c59209608ff36b9019b1f57059a6edbb7184557026898111a"
   }
  }
 },
 "nbformat": 4,
 "nbformat_minor": 1
}
