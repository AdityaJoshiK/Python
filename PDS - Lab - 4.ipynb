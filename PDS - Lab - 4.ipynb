{
 "cells": [
  {
   "cell_type": "markdown",
   "metadata": {
    "id": "5IxH57pmG-GY"
   },
   "source": [
    "\n",
    "___\n",
    "\n",
    "<a href='https://www.darshan.ac.in/'> <img src='https://gtu.darshan.ac.in/Upload/Logo/DIET_Logo.svg' /></a>\n",
    "___\n",
    "<pre>\n",
    "<center><b>Python for Data Science - 3150713</b></center>\n",
    "<center><b>Lab - 4</b></center>    \n",
    "<pre>"
   ]
  },
  {
   "cell_type": "markdown",
   "metadata": {
    "id": "_FHUM-CHG-Gd"
   },
   "source": [
    "# 01) WAP to find sum of all the elements in List."
   ]
  },
  {
   "cell_type": "code",
   "execution_count": 1,
   "metadata": {
    "id": "ybLtCnveG-Ge",
    "outputId": "092082a0-6010-4ee1-fd15-376801468c73"
   },
   "outputs": [
    {
     "name": "stdout",
     "output_type": "stream",
     "text": [
      "10\n"
     ]
    }
   ],
   "source": [
    "list=[1,2,3,4]\n",
    "sum=0\n",
    "\n",
    "for i in list:\n",
    "    sum=sum+i\n",
    "    \n",
    "print(sum)    "
   ]
  },
  {
   "cell_type": "markdown",
   "metadata": {
    "id": "6-sXb9PSG-Gh"
   },
   "source": [
    "# 02) WAP to find largest element in a List."
   ]
  },
  {
   "cell_type": "code",
   "execution_count": 11,
   "metadata": {
    "id": "oTUGWtFZG-Gi",
    "outputId": "bbba26cc-04aa-40ad-c902-f976ee34d20a"
   },
   "outputs": [
    {
     "name": "stdout",
     "output_type": "stream",
     "text": [
      "577\n"
     ]
    }
   ],
   "source": [
    "list=[15,313,5,577,323,94,6]\n",
    "large=0\n",
    "\n",
    "for i in list:\n",
    "    if i>large:\n",
    "        large=i\n",
    "        \n",
    "print(large)        \n",
    "    "
   ]
  },
  {
   "cell_type": "markdown",
   "metadata": {
    "id": "1J0WHwUNG-Gj"
   },
   "source": [
    "# 03) WAP to split the List into two and append the first part to the end."
   ]
  },
  {
   "cell_type": "code",
   "execution_count": 24,
   "metadata": {
    "id": "hXcf57rdG-Gk",
    "outputId": "fec29838-ef07-4033-92ad-49786f3c7efb"
   },
   "outputs": [
    {
     "name": "stdout",
     "output_type": "stream",
     "text": [
      "[3, 4, 1, 2]\n"
     ]
    }
   ],
   "source": [
    "list=[1,2,3,4]\n",
    "part1=list[0:int((len(list)/2))]\n",
    "part2=list[int((len(list)/2)):len(list)]\n",
    "\n",
    "# print(part2+part1)\n",
    "part2.extend(part1)\n",
    "print(part2)"
   ]
  },
  {
   "cell_type": "markdown",
   "metadata": {
    "id": "q9WGqT_bG-Gl"
   },
   "source": [
    "# 04) WAP to interchange first and last element in list entered by a user."
   ]
  },
  {
   "cell_type": "code",
   "execution_count": 25,
   "metadata": {
    "id": "dPvM9W0dG-Gm",
    "outputId": "41637451-4895-4166-864e-0792ba7a356d"
   },
   "outputs": [
    {
     "name": "stdout",
     "output_type": "stream",
     "text": [
      "[4, 2, 3, 1]\n"
     ]
    }
   ],
   "source": [
    "list=[1,2,3,4]\n",
    "\n",
    "list[0],list[-1]=list[-1],list[0]\n",
    "\n",
    "print(list)"
   ]
  },
  {
   "cell_type": "markdown",
   "metadata": {
    "id": "vfr11EOSG-Gn"
   },
   "source": [
    "# 05) WAP to interchange the elements on two positions entered by a user."
   ]
  },
  {
   "cell_type": "code",
   "execution_count": 28,
   "metadata": {
    "id": "9AXXFjmXG-Go",
    "outputId": "2c0f53db-7071-41d3-bc03-af215bae7e21"
   },
   "outputs": [
    {
     "name": "stdout",
     "output_type": "stream",
     "text": [
      "[3, 2, 1, 4]\n"
     ]
    }
   ],
   "source": [
    "list=[1,2,3,4]\n",
    "\n",
    "position1=int(input(\"Enter Position 1\"))\n",
    "position2=int(input(\"Enter Position 2\"))\n",
    "\n",
    "list[position1],list[position2]=list[position2],list[position1]\n",
    "\n",
    "print(list)"
   ]
  },
  {
   "cell_type": "markdown",
   "metadata": {
    "id": "VABvkcqXG-Gp"
   },
   "source": [
    "# 06) WAP to remove Nth occurrence of the given word in the list entered by user."
   ]
  },
  {
   "cell_type": "code",
   "execution_count": 4,
   "metadata": {
    "id": "e5YWmQ8RG-Gq",
    "outputId": "4d43d37c-a263-49c0-d713-eabe7029aceb"
   },
   "outputs": [
    {
     "name": "stdout",
     "output_type": "stream",
     "text": [
      "['Aditya', 'Joshi', 'Rajkot', 'Gujarat', 'Aditya', 'Joshi', 'Rajkot', 'Gujarat']\n",
      "['Aditya', 'Joshi', 'Rajkot', 'Gujarat', 'Aditya', 'Joshi', 'Gujarat']\n"
     ]
    }
   ],
   "source": [
    "list=['Aditya','Joshi','Rajkot','Gujarat','Aditya','Joshi','Rajkot','Gujarat']\n",
    "\n",
    "word=input(\"Enter Word:\")\n",
    "n=int(input(\"Enter Occurence To Remove:\"))\n",
    "\n",
    "newlist=[]\n",
    "count=0\n",
    "print(list)\n",
    "\n",
    "for i in list:\n",
    "    if i==word:\n",
    "        count=count+1\n",
    "        if count!=n:\n",
    "            newlist.append(i)\n",
    "            \n",
    "    else:\n",
    "        newlist.append(i)        \n",
    "\n",
    "print(newlist)"
   ]
  },
  {
   "cell_type": "markdown",
   "metadata": {
    "id": "Y7RN-OcVG-Gr"
   },
   "source": [
    "# 07) WAP to check whether given element exits in list or not."
   ]
  },
  {
   "cell_type": "code",
   "execution_count": 11,
   "metadata": {
    "id": "hxzXNra_G-Gs",
    "outputId": "f17bd96d-32af-4d8f-bf58-fadadcab1110"
   },
   "outputs": [
    {
     "name": "stdout",
     "output_type": "stream",
     "text": [
      "Element Not Found\n"
     ]
    }
   ],
   "source": [
    "list=['Aditya','Joshi','Rajkot','Gujarat']\n",
    "\n",
    "element=input(\"Enter Element:\")\n",
    "c=0\n",
    "\n",
    "for i in list:\n",
    "    if i==element:\n",
    "        c+=1\n",
    " \n",
    "if c>0:\n",
    "    print(\"Element Found\")        \n",
    "else:  \n",
    "    print(\"Element Not Found\")  "
   ]
  },
  {
   "cell_type": "markdown",
   "metadata": {
    "id": "ykN1fAPrG-Gt"
   },
   "source": [
    "# 08) WAP to reverser the list entered by user."
   ]
  },
  {
   "cell_type": "code",
   "execution_count": 3,
   "metadata": {
    "id": "GRPbL1LWG-Gu",
    "outputId": "370fee2d-7e89-441a-99ab-19f37e4414e7"
   },
   "outputs": [
    {
     "name": "stdout",
     "output_type": "stream",
     "text": [
      "Enter 1 To Add Element And 0 To Exit\n",
      "['Aditya', 'Joshi', 'Gujarat', 'Rajkot']\n",
      "['Rajkot', 'Gujarat', 'Joshi', 'Aditya']\n"
     ]
    }
   ],
   "source": [
    "list=[]\n",
    "\n",
    "print(\"Enter 1 To Add Element And 0 To Exit\")\n",
    "\n",
    "i=1\n",
    "\n",
    "while(i!=0):\n",
    "    element=input(\"Enter Element:\")\n",
    "    list.append(element)\n",
    "    i=int(input(\"Do You Want To Continue?Enter 1 To Add Element And 0 To Exit:\"))\n",
    "    \n",
    "print(list)\n",
    "\n",
    "newlist=[]\n",
    "\n",
    "for i in list[-1:-(len(list)+1):-1]:\n",
    "    newlist.append(i)\n",
    "    \n",
    "list=newlist\n",
    "\n",
    "# list.reverse()\n",
    "print(list)    "
   ]
  },
  {
   "cell_type": "markdown",
   "metadata": {
    "id": "3QDjgOCTG-Gw"
   },
   "source": [
    "# 09) WAP to print all positive number in list entered by user."
   ]
  },
  {
   "cell_type": "code",
   "execution_count": 16,
   "metadata": {
    "id": "g06Bs0oEG-Gw",
    "outputId": "a9d8bdd0-7035-4155-acae-7e275c71a36b"
   },
   "outputs": [
    {
     "name": "stdout",
     "output_type": "stream",
     "text": [
      "1  2  3  "
     ]
    }
   ],
   "source": [
    "list=[1,-1,2,3,-45]\n",
    "\n",
    "for i in list:\n",
    "    if i>0:\n",
    "        print(i,\" \",end=\"\")"
   ]
  },
  {
   "cell_type": "markdown",
   "metadata": {
    "id": "C0DzX7IYG-Gx"
   },
   "source": [
    "# 10) WAP to check if given array is monotonic or not."
   ]
  },
  {
   "cell_type": "code",
   "execution_count": 40,
   "metadata": {
    "id": "2UHVeuNTG-Gy"
   },
   "outputs": [
    {
     "name": "stdout",
     "output_type": "stream",
     "text": [
      "Enter 1 To Add Element And 0 To Exit\n",
      "['1', '1', '0']\n",
      "2\n"
     ]
    }
   ],
   "source": [
    "list=[]\n",
    "#check\n",
    "\n",
    "print(\"Enter 1 To Add Element And 0 To Exit\")\n",
    "\n",
    "i=1\n",
    "\n",
    "while(i!=0):\n",
    "    element=input(\"Enter Element:\")\n",
    "    list.append(element)\n",
    "    i=int(input(\"Do You Want To Continue?Enter 1 To Add Element And 0 To Exit:\"))\n",
    "    \n",
    "print(list)\n",
    "\n",
    "c=1\n",
    "i=0\n",
    "\n",
    "for i in range(len(list)):\n",
    "    if i+1 in range(len(list)):\n",
    "        if list[i]>=list[i+1] or list[i]<=list[i+1]:\n",
    "            c+=1\n",
    "            \n",
    "\n",
    "print(c)  \n",
    "if c==len(list):    \n",
    "    print(\"True\")    "
   ]
  },
  {
   "cell_type": "markdown",
   "metadata": {
    "id": "TXeCXfFZG-Gz"
   },
   "source": [
    "# 11) WAP which takes 2 digits, X,Y as input and generates a 2-dimensional array of size X * Y. The element value in the i-th row and j-th column of the array should be i*j. Note: i=0,1.., X-1; j=0,1,¡­Y-1."
   ]
  },
  {
   "cell_type": "code",
   "execution_count": null,
   "metadata": {
    "id": "iA10lUgVG-G0"
   },
   "outputs": [],
   "source": []
  },
  {
   "cell_type": "markdown",
   "metadata": {
    "id": "nCHxeKKfG-G1"
   },
   "source": [
    "# 12) WAP to find median of array."
   ]
  },
  {
   "cell_type": "code",
   "execution_count": null,
   "metadata": {
    "id": "vicmGyv5G-G2"
   },
   "outputs": [],
   "source": []
  },
  {
   "cell_type": "markdown",
   "metadata": {
    "id": "7M6h6L6pG-G3"
   },
   "source": [
    "# 13) Write a program that interchanges the odd and even elements of an array."
   ]
  },
  {
   "cell_type": "code",
   "execution_count": 65,
   "metadata": {
    "id": "nqLeumgaG-G3"
   },
   "outputs": [
    {
     "name": "stdout",
     "output_type": "stream",
     "text": [
      "[1, 2, 3, 4, 5, 6, 7, 8, 9, 10]\n",
      "[1, 3, 5, 7, 9]\n",
      "[2, 4, 6, 8, 10]\n",
      "[2, 2, 3, 4, 5, 6, 7, 8, 9, 10]\n",
      "evenIndex 1\n",
      "[2, 1, 3, 4, 5, 6, 7, 8, 9, 10]\n",
      "oddIndex 1\n",
      "[2, 1, 4, 4, 5, 6, 7, 8, 9, 10]\n",
      "evenIndex 2\n",
      "[2, 1, 4, 3, 5, 6, 7, 8, 9, 10]\n",
      "oddIndex 2\n",
      "[2, 1, 4, 3, 6, 6, 7, 8, 9, 10]\n",
      "evenIndex 3\n",
      "[2, 1, 4, 3, 6, 5, 7, 8, 9, 10]\n",
      "oddIndex 3\n",
      "[2, 1, 4, 3, 6, 5, 8, 8, 9, 10]\n",
      "evenIndex 4\n",
      "[2, 1, 4, 3, 6, 5, 8, 7, 9, 10]\n",
      "oddIndex 4\n",
      "[2, 1, 4, 3, 6, 5, 8, 7, 10, 10]\n",
      "evenIndex 5\n",
      "[2, 1, 4, 3, 6, 5, 8, 7, 10, 10]\n"
     ]
    }
   ],
   "source": [
    "#change\n",
    "list=[1, 2, 3, 4, 5, 6, 7, 8, 9, 10]\n",
    "\n",
    "# print(\"Enter 1 To Add Element And 0 To Exit\")\n",
    "\n",
    "# i=1\n",
    "\n",
    "# while(i!=0):\n",
    "#     element=input(\"Enter Element:\")\n",
    "#     list.append(element)\n",
    "#     i=int(input(\"Do You Want To Continue?Enter 1 To Add Element And 0 To Exit:\"))\n",
    "    \n",
    "print(list)\n",
    "\n",
    "odd=[]\n",
    "even=[]\n",
    "\n",
    "for i in list:\n",
    "    if i%2==0:\n",
    "        even.append(i)\n",
    "    else:    \n",
    "        odd.append(i)\n",
    "\n",
    "print(odd)\n",
    "print(even)\n",
    "n=len(list)-1\n",
    "\n",
    "oddIndex=0\n",
    "evenIndex=0\n",
    "\n",
    "i=0\n",
    "for i in range(n):\n",
    "    if oddIndex<len(odd) and evenIndex<len(even):\n",
    "        if list[i]%2==0:\n",
    "            list[i]=odd[oddIndex]\n",
    "            print(list)\n",
    "            oddIndex+=1\n",
    "            print(\"oddIndex\",oddIndex)\n",
    "        else:\n",
    "            list[i]=even[evenIndex] \n",
    "            print(list)\n",
    "            evenIndex+=1   \n",
    "            print(\"evenIndex\",evenIndex)\n",
    "        \n",
    "print(list)        \n",
    "          "
   ]
  },
  {
   "cell_type": "markdown",
   "metadata": {
    "id": "wcb7jun0G-G4"
   },
   "source": [
    "# 14) WAP to find given number in the list and print the position of number using sequential search."
   ]
  },
  {
   "cell_type": "code",
   "execution_count": null,
   "metadata": {
    "id": "KMemq0TQG-G4"
   },
   "outputs": [],
   "source": []
  },
  {
   "cell_type": "markdown",
   "metadata": {
    "id": "UcuL0Y0OG-G5"
   },
   "source": [
    "# 15) WAP to multiply two 3*3 matrix."
   ]
  },
  {
   "cell_type": "code",
   "execution_count": null,
   "metadata": {
    "id": "cuTT48YYG-G5"
   },
   "outputs": [],
   "source": []
  },
  {
   "cell_type": "markdown",
   "metadata": {
    "id": "rs7xIVBNG-G6"
   },
   "source": [
    "# 16) Write one line of Python code that returns list of even elements of the given list."
   ]
  },
  {
   "cell_type": "code",
   "execution_count": 69,
   "metadata": {
    "id": "RV1TlJwYG-G7"
   },
   "outputs": [
    {
     "name": "stdout",
     "output_type": "stream",
     "text": [
      "[2, 4, 6, 8, 10]\n"
     ]
    }
   ],
   "source": [
    "list=[1, 2, 3, 4, 5, 6, 7, 8, 9, 10]\n",
    "print(list[1::2])"
   ]
  },
  {
   "cell_type": "markdown",
   "metadata": {
    "id": "KkRJWytRG-G9"
   },
   "source": [
    "# 17) WAP to find tuples which have all elements divisible by K from a list of tuples."
   ]
  },
  {
   "cell_type": "code",
   "execution_count": 23,
   "metadata": {
    "id": "zxa_T61kG-G_"
   },
   "outputs": [
    {
     "name": "stdout",
     "output_type": "stream",
     "text": [
      "(5, 10, 15, 25)\n"
     ]
    }
   ],
   "source": [
    "list=[(1,2,3,4),(2,4,6,8),(12,54,21,84,521),(5,10,15,25)]\n",
    "\n",
    "k=int(input(\"Enter k:\"))\n",
    "c=0\n",
    "\n",
    "for i in list:\n",
    "    for j in i:\n",
    "        if j%k==0:\n",
    "            c+=1\n",
    "        if c==len(i):\n",
    "            print(i)\n",
    "    c=0        "
   ]
  },
  {
   "cell_type": "markdown",
   "metadata": {
    "id": "w9-ZoaSPG-HA"
   },
   "source": [
    "# 18) WAP to covert tuple into list by adding the given string after every element."
   ]
  },
  {
   "cell_type": "code",
   "execution_count": 28,
   "metadata": {
    "id": "kp_ewiUoG-HB"
   },
   "outputs": [
    {
     "name": "stdout",
     "output_type": "stream",
     "text": [
      "['AdityaA', 'JoshiA', 'RajkotA', 'GujaratA']\n"
     ]
    }
   ],
   "source": [
    "tuple=(\"Aditya\",\"Joshi\",\"Rajkot\",\"Gujarat\")\n",
    "\n",
    "element=input(\"Enter Element TO Add:\")\n",
    "list=[]\n",
    "\n",
    "for i in tuple:\n",
    "    list.append(i+element)\n",
    "    \n",
    "print(list)    "
   ]
  },
  {
   "cell_type": "markdown",
   "metadata": {
    "id": "Kb0K15vDG-HB"
   },
   "source": [
    "# 19) WAP to sort python dictionary by key or value."
   ]
  },
  {
   "cell_type": "code",
   "execution_count": 45,
   "metadata": {
    "id": "mPQhWcuvG-HC"
   },
   "outputs": [
    {
     "name": "stdout",
     "output_type": "stream",
     "text": [
      "Aditya\n"
     ]
    }
   ],
   "source": [
    "dict={\"Name\":\"Aditya\",\"City\":\"Rajkot\",\"State\":\"Gujarat\"}\n",
    "\n",
    "print(dict[\"Name\"])"
   ]
  },
  {
   "cell_type": "code",
   "execution_count": null,
   "metadata": {},
   "outputs": [],
   "source": []
  },
  {
   "cell_type": "markdown",
   "metadata": {
    "id": "QQgUF-1iG-HD"
   },
   "source": [
    "# 20) WAP to merge two dictionaries given by user."
   ]
  },
  {
   "cell_type": "code",
   "execution_count": null,
   "metadata": {
    "id": "6suV-zTuG-HD"
   },
   "outputs": [],
   "source": [
    "dict={\"Name\":\"Aditya\",\"City\":\"Rajkot\",\"State\":\"Gujarat\"}\n",
    "\n",
    "dict1={\"Name\":\"Jay\",\"City\":\"Rajkot\",\"State\":\"Gujarat\"}\n",
    "\n"
   ]
  },
  {
   "cell_type": "markdown",
   "metadata": {
    "id": "QQgUF-1iG-HD"
   },
   "source": [
    "# 21) WAP to merge two sets given by user."
   ]
  },
  {
   "cell_type": "code",
   "execution_count": 55,
   "metadata": {
    "id": "6suV-zTuG-HD"
   },
   "outputs": [
    {
     "name": "stdout",
     "output_type": "stream",
     "text": [
      "{1, 2, 3, 4, 5, 8}\n"
     ]
    }
   ],
   "source": [
    "set1={1,8,2}\n",
    "set2={3,4,5}\n",
    "\n",
    "for i in set2:\n",
    "    set1.add(i)\n",
    "    \n",
    "print(set1)    "
   ]
  },
  {
   "cell_type": "markdown",
   "metadata": {
    "id": "QQgUF-1iG-HD"
   },
   "source": [
    "# 22) WAP to find intersection of two sets given by user. "
   ]
  },
  {
   "cell_type": "code",
   "execution_count": 58,
   "metadata": {
    "id": "6suV-zTuG-HD"
   },
   "outputs": [
    {
     "name": "stdout",
     "output_type": "stream",
     "text": [
      "{8, 1, 2}\n"
     ]
    }
   ],
   "source": [
    "set1={1,8,2}\n",
    "set2={3,4,1,1,8,2,5}\n",
    "\n",
    "print(set1.intersection(set2))"
   ]
  }
 ],
 "metadata": {
  "colab": {
   "name": "Python (Lab - 03) (List) - Payal Parmar.ipynb",
   "provenance": []
  },
  "kernelspec": {
   "display_name": "Python 3.9.12 ('base')",
   "language": "python",
   "name": "python3"
  },
  "language_info": {
   "codemirror_mode": {
    "name": "ipython",
    "version": 3
   },
   "file_extension": ".py",
   "mimetype": "text/x-python",
   "name": "python",
   "nbconvert_exporter": "python",
   "pygments_lexer": "ipython3",
   "version": "3.9.12"
  },
  "vscode": {
   "interpreter": {
    "hash": "b9bf5399a3dda56c59209608ff36b9019b1f57059a6edbb7184557026898111a"
   }
  }
 },
 "nbformat": 4,
 "nbformat_minor": 1
}
